{
  "nbformat": 4,
  "nbformat_minor": 0,
  "metadata": {
    "colab": {
      "name": "IA_Ejercicio1_DavidLázaroTristán_1843682.ipynb",
      "provenance": [],
      "collapsed_sections": [],
      "authorship_tag": "ABX9TyMm2p1VO4xJt7MVjcEKCtTm",
      "include_colab_link": true
    },
    "kernelspec": {
      "name": "python3",
      "display_name": "Python 3"
    },
    "language_info": {
      "name": "python"
    }
  },
  "cells": [
    {
      "cell_type": "markdown",
      "metadata": {
        "id": "view-in-github",
        "colab_type": "text"
      },
      "source": [
        "<a href=\"https://colab.research.google.com/github/dalatri/Inteligencia-Artificial/blob/main/IA_Ejercicio1_DavidL%C3%A1zaroTrist%C3%A1n_1843682.ipynb\" target=\"_parent\"><img src=\"https://colab.research.google.com/assets/colab-badge.svg\" alt=\"Open In Colab\"/></a>"
      ]
    },
    {
      "cell_type": "markdown",
      "metadata": {
        "id": "GzGjEBW-azfN"
      },
      "source": [
        "**Actividad 2.- Ejercicios Introducción Python**\n",
        "\n",
        "David Lázaro Tristán 1843682\n",
        "\n",
        "Jueves N4"
      ]
    },
    {
      "cell_type": "code",
      "metadata": {
        "colab": {
          "base_uri": "https://localhost:8080/"
        },
        "id": "CFAdTEoOamOG",
        "outputId": "e16b6a21-0452-453b-812a-429efc82c2ad"
      },
      "source": [
        "\"Ejercicio 1\"\n",
        "\n",
        "\"Los inputs generan interacciones entre la computadora y el usuario\"\n",
        "\"Los inputs son puestos en variables, con estas variables, se puede hacer un print con los inputs que contestemos\"\n",
        "\n",
        "nombre = input(\"¿Cuál es tu nombre? \")\n",
        "edad = input(\"¿Cuántos años tienes? \")\n",
        "frase = input(\"¿Cuál es tu frase favorita? \")\n",
        "autor = input(\"¿Quién es el autor de tu frase favorita? \")\n",
        "\n",
        "print(\"Tu nombre es \" + nombre + \", tienes \" + edad + \" de edad.\\nTu frase favorita es: '\" + frase + \"' del autor \" + autor + \".\")"
      ],
      "execution_count": null,
      "outputs": [
        {
          "output_type": "stream",
          "name": "stdout",
          "text": [
            "¿Cuál es tu nombre? David\n",
            "¿Cuántos años tienes? 20\n",
            "¿Cuál es tu frase favorita? Vive como si fueras a morir mañana; aprende como si el mundo fuera a durar para siemre.\n",
            "¿Quién es el autor de tu frase favorita? Mahatma Ghandi\n",
            "Tu nombre es David, tienes 20 de edad.\n",
            "Tu frase favorita es: 'Vive como si fueras a morir mañana; aprende como si el mundo fuera a durar para siemre.' del autor Mahatma Ghandi.\n"
          ]
        }
      ]
    },
    {
      "cell_type": "code",
      "metadata": {
        "colab": {
          "base_uri": "https://localhost:8080/"
        },
        "id": "MFz_kxISY3wp",
        "outputId": "2e6167c7-c397-4cc4-9a69-28252b9dde45"
      },
      "source": [
        "\"Ejercicio 2\"\n",
        "\n",
        "\"En este caso, int, se utiliza cuando en un input se requiere utilizar números enteros, de lo contrario saldrá error\"\n",
        "\"float se utiliza cuando en un input se requiere utilizar números con decimales\"\n",
        "\"Las variables utilizadas son dos números enteros y dos decimales que hacen cuatro operaciones matemáticas\"\n",
        "\n",
        "num_entero = int(input(\"Ingrese un primer número entero: \")) \n",
        "num_entero_2 = int(input(\"Ingrese un segundo número entero: \"))\n",
        "num_dec = float(input(\"Ingrese un primer número decimal: \"))\n",
        "num_dec_2 = float(input(\"Ingrese un segundo número decimal: \"))\n",
        "\n",
        "\"En este bloque se hacen operaciones con los números enteros\"\n",
        "\n",
        "print(\"Suma de números enteros: \")\n",
        "print(num_entero + num_entero_2)\n",
        "print(\"Resta de números enteros: \")\n",
        "print(num_entero - num_entero_2)\n",
        "print(\"Multiplicación de números enteros: \")\n",
        "print(num_entero * num_entero_2)\n",
        "print(\"División de números enteros: \")\n",
        "print(num_entero / num_entero_2)\n",
        "\n",
        "\"En este otro bloque se realizan operaciones con números decimales\"\n",
        "\n",
        "print(\"Suma de números decimales: \")\n",
        "print(num_dec + num_dec_2)\n",
        "print(\"Resta de números decimales: \")\n",
        "print(num_dec - num_dec_2)\n",
        "print(\"Multiplicación de números decimales: \")\n",
        "print(num_dec * num_dec_2)\n",
        "print(\"División de números decimales: \")\n",
        "print(num_dec / num_dec_2)"
      ],
      "execution_count": null,
      "outputs": [
        {
          "output_type": "stream",
          "name": "stdout",
          "text": [
            "Ingrese un primer número entero: 160\n",
            "Ingrese un segundo número entero: 27\n",
            "Ingrese un primer número decimal: 5.67\n",
            "Ingrese un segundo número decimal: 1.5\n",
            "Suma de números enteros: \n",
            "187\n",
            "Resta de números enteros: \n",
            "133\n",
            "Multiplicación de números enteros: \n",
            "4320\n",
            "División de números enteros: \n",
            "5.925925925925926\n",
            "Suma de números decimales: \n",
            "7.17\n",
            "Resta de números decimales: \n",
            "4.17\n",
            "Multiplicación de números decimales: \n",
            "8.504999999999999\n",
            "División de números decimales: \n",
            "3.78\n"
          ]
        }
      ]
    },
    {
      "cell_type": "code",
      "metadata": {
        "colab": {
          "base_uri": "https://localhost:8080/"
        },
        "id": "O6hx5nmrcZQG",
        "outputId": "c6e408c5-82ed-4ee2-a260-95d5f8d51295"
      },
      "source": [
        "\"Ejercicio 3\"\n",
        "\n",
        "\"Cuando se realiza un print de las funciones booleanas, la consola regresa True o False\"\n",
        "\"Cuando se usa and, la consola marca True cuando ambas declaraciones son ciertas, si una o ambas declaraciones son falsas, la consola regresa False\"\n",
        "\n",
        "print(1 < 10 and 5 > 10)\n",
        "print(1 == 1 and 5 < 10)\n",
        "\n",
        "\"Cuando se usa or, la consola marca True cuando una o ambas de las declaraciones son ciertas. Si ambas son falsas, la consola regresa Flase\"\n",
        "\n",
        "print(3 < 10 or 5 > 2)\n",
        "print(3 < 1 or 10 <= 10)\n",
        "\n",
        "\"La función not hace que una declaración utilizando operadores booleanos sea lo contrario a su respuesta original\"\n",
        "\n",
        "print (not (3 < 10 and 5 > 1))\n",
        "print (not (5 == 2 and 2 > 10))"
      ],
      "execution_count": null,
      "outputs": [
        {
          "output_type": "stream",
          "name": "stdout",
          "text": [
            "False\n",
            "True\n",
            "True\n",
            "True\n",
            "False\n",
            "True\n"
          ]
        }
      ]
    }
  ]
}