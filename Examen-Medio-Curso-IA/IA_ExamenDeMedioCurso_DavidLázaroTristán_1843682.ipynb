{
  "nbformat": 4,
  "nbformat_minor": 0,
  "metadata": {
    "colab": {
      "name": "IA_ExamenDeMedioCurso_DavidLázaroTristán_1843682.ipynb",
      "provenance": [],
      "collapsed_sections": [],
      "authorship_tag": "ABX9TyOHQ2wKFbk0AgfDd4zJv8XZ",
      "include_colab_link": true
    },
    "kernelspec": {
      "name": "python3",
      "display_name": "Python 3"
    },
    "language_info": {
      "name": "python"
    }
  },
  "cells": [
    {
      "cell_type": "markdown",
      "metadata": {
        "id": "view-in-github",
        "colab_type": "text"
      },
      "source": [
        "<a href=\"https://colab.research.google.com/github/dalatri/Inteligencia-Artificial/blob/main/IA_ExamenDeMedioCurso_DavidL%C3%A1zaroTrist%C3%A1n_1843682.ipynb\" target=\"_parent\"><img src=\"https://colab.research.google.com/assets/colab-badge.svg\" alt=\"Open In Colab\"/></a>"
      ]
    },
    {
      "cell_type": "markdown",
      "metadata": {
        "id": "Bfa-n1PxRvqa"
      },
      "source": [
        "**Examen de Medio Curso**\n",
        "\n",
        "David Lázaro Tristán 1843682\n",
        "\n",
        "Jueves N4"
      ]
    },
    {
      "cell_type": "code",
      "metadata": {
        "colab": {
          "base_uri": "https://localhost:8080/"
        },
        "id": "KAKGyE7pIC7X",
        "outputId": "933e069d-0e72-46ff-f7e3-b5cf3cc211d0"
      },
      "source": [
        "#Ejercicio 1\n",
        "\n",
        "#Se explica al usuario la acción que realizará el programa\n",
        "print(\"Se removerán los números pares de la siguiente lista.\")\n",
        "print(\"[10, 15, 17, 21, 22, 34, 37, 40, 45, 52, 66, 68, 81, 84, 91, 94, 102, 105, 109].\")\n",
        "\n",
        "ex_lista = [10, 15, 17, 21, 22, 34, 37, 40, 45, 52, 66, 68, 81, 84, 91, 94, 102, 105, 109]\n",
        "\n",
        "#Se crea una nueva lista incluyendo las iteraciones con números pares\n",
        "nueva_lista = [x for x in ex_lista if x % 2]\n",
        "print(\"Nueva lista: \", nueva_lista)"
      ],
      "execution_count": 6,
      "outputs": [
        {
          "output_type": "stream",
          "name": "stdout",
          "text": [
            "Se removerán los números pares de la siguiente lista.\n",
            "[10, 15, 17, 21, 22, 34, 37, 40, 45, 52, 66, 68, 81, 84, 91, 94, 102, 105, 109].\n",
            "Nueva lista:  [15, 17, 21, 37, 45, 81, 91, 105, 109]\n"
          ]
        }
      ]
    },
    {
      "cell_type": "code",
      "metadata": {
        "colab": {
          "base_uri": "https://localhost:8080/"
        },
        "id": "-2oY-oY3KirZ",
        "outputId": "b2f0d0a0-ce29-4dc3-fa84-c50b87a2a52b"
      },
      "source": [
        "#Ejercicio 2\n",
        "\n",
        "#Se define la variable de título como una lista de valores\n",
        "titulo = []\n",
        "\n",
        "#Se hace un ciclo para introducir los inputs de las películas en orden descendente\n",
        "i = 1\n",
        "while i<=5:\n",
        "  peli = input(f\"Introduzca su {i}° película favorita: \")\n",
        "  titulo.append(peli)\n",
        "  i += 1\n",
        "\n",
        "#Se imprimen los valores de la lista y se define j como la posición inicial\n",
        "j = 1\n",
        "for j in range(0, len(titulo)):\n",
        "  print(f\"La película {titulo[j]} está en la posición {j+1} de mi top 5.\")"
      ],
      "execution_count": 14,
      "outputs": [
        {
          "output_type": "stream",
          "name": "stdout",
          "text": [
            "Introduzca su 1° película favorita: Avatar\n",
            "Introduzca su 2° película favorita: Warrior\n",
            "Introduzca su 3° película favorita: Jaws\n",
            "Introduzca su 4° película favorita: Inglourious Basterds\n",
            "Introduzca su 5° película favorita: Southpaw\n",
            "La película Avatar está en la posición 1 de mi top 5.\n",
            "La película Warrior está en la posición 2 de mi top 5.\n",
            "La película Jaws está en la posición 3 de mi top 5.\n",
            "La película Inglourious Basterds está en la posición 4 de mi top 5.\n",
            "La película Southpaw está en la posición 5 de mi top 5.\n"
          ]
        }
      ]
    }
  ]
}
