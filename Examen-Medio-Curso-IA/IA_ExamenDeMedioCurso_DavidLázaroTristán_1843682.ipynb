{
  "nbformat": 4,
  "nbformat_minor": 0,
  "metadata": {
    "colab": {
      "name": "IA_ExamenDeMedioCurso_DavidLázaroTristán_1843682.ipynb",
      "provenance": [],
      "collapsed_sections": [],
      "authorship_tag": "ABX9TyN0IkPpqf2iLD/hjHYlhdSx",
      "include_colab_link": true
    },
    "kernelspec": {
      "name": "python3",
      "display_name": "Python 3"
    },
    "language_info": {
      "name": "python"
    }
  },
  "cells": [
    {
      "cell_type": "markdown",
      "metadata": {
        "id": "view-in-github",
        "colab_type": "text"
      },
      "source": [
        "<a href=\"https://colab.research.google.com/github/dalatri/Inteligencia-Artificial/blob/main/IA_ExamenDeMedioCurso_DavidL%C3%A1zaroTrist%C3%A1n_1843682.ipynb\" target=\"_parent\"><img src=\"https://colab.research.google.com/assets/colab-badge.svg\" alt=\"Open In Colab\"/></a>"
      ]
    },
    {
      "cell_type": "markdown",
      "metadata": {
        "id": "Bfa-n1PxRvqa"
      },
      "source": [
        "**Examen de Medio Curso**\n",
        "\n",
        "David Lázaro Tristán 1843682\n",
        "\n",
        "Jueves N4"
      ]
    },
    {
      "cell_type": "code",
      "metadata": {
        "colab": {
          "base_uri": "https://localhost:8080/"
        },
        "id": "KAKGyE7pIC7X",
        "outputId": "9a8d6745-1f1c-4725-e7a3-34a320ce3aa1"
      },
      "source": [
        "#Ejercicio 1\n",
        "\n",
        "#Se explica al usuario la acción que realizará el programa\n",
        "print(\"Se removerán los números pares de la siguiente lista.\")\n",
        "print(\"[10, 15, 17, 21, 22, 34, 37, 40, 45, 52, 66, 68, 81, 84, 91, 94, 102, 105, 109].\")\n",
        "\n",
        "ex_lista = [10, 15, 17, 21, 22, 34, 37, 40, 45, 52, 66, 68, 81, 84, 91, 94, 102, 105, 109]\n",
        "\n",
        "#Se crea una nueva lista incluyendo las iteraciones con números pares\n",
        "nueva_lista = [x for x in ex_lista if x % 2]\n",
        "print(\"Nueva lista: \", nueva_lista)"
      ],
      "execution_count": 16,
      "outputs": [
        {
          "output_type": "stream",
          "name": "stdout",
          "text": [
            "Se removerán los números pares de la siguiente lista.\n",
            "[10, 15, 17, 21, 22, 34, 37, 40, 45, 52, 66, 68, 81, 84, 91, 94, 102, 105, 109].\n",
            "Nueva lista:  [15, 17, 21, 37, 45, 81, 91, 105, 109]\n"
          ]
        }
      ]
    },
    {
      "cell_type": "code",
      "metadata": {
        "colab": {
          "base_uri": "https://localhost:8080/"
        },
        "id": "-2oY-oY3KirZ",
        "outputId": "4ff1c7e2-0654-4ac7-b811-c504ef9dba16"
      },
      "source": [
        "#Ejercicio 2\n",
        "\n",
        "#Se define la variable de título como una lista de valores\n",
        "titulo = []\n",
        "\n",
        "#Se hace un ciclo para introducir los inputs de las películas en orden descendente\n",
        "n = 1\n",
        "while n<=5:\n",
        "  peli = input(f\"Introduzca su {n}° película favorita: \")\n",
        "  titulo.append(peli)\n",
        "  n += 1\n",
        "\n",
        "#Se imprimen los valores de la lista y se define j como la posición inicial\n",
        "x = 1\n",
        "for x in range(0, len(titulo)):\n",
        "  print(f\"La película {titulo[x]} está en la posición {x+1} de mi top 5.\")"
      ],
      "execution_count": 15,
      "outputs": [
        {
          "output_type": "stream",
          "name": "stdout",
          "text": [
            "Introduzca su 1° película favorita: Avatar\n",
            "Introduzca su 2° película favorita: Warrior\n",
            "Introduzca su 3° película favorita: Jaws\n",
            "Introduzca su 4° película favorita: Django\n",
            "Introduzca su 5° película favorita: Southpaw\n",
            "La película Avatar está en la posición 1 de mi top 5.\n",
            "La película Warrior está en la posición 2 de mi top 5.\n",
            "La película Jaws está en la posición 3 de mi top 5.\n",
            "La película Django está en la posición 4 de mi top 5.\n",
            "La película Southpaw está en la posición 5 de mi top 5.\n"
          ]
        }
      ]
    }
  ]
}
