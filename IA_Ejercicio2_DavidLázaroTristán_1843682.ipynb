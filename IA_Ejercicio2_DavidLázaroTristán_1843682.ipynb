{
  "nbformat": 4,
  "nbformat_minor": 0,
  "metadata": {
    "colab": {
      "name": "IA_Ejercicio2_DavidLázaroTristán_1843682.ipynb",
      "provenance": [],
      "collapsed_sections": [],
      "authorship_tag": "ABX9TyMJ4hEgndVsu9lQJ6FxTFMH",
      "include_colab_link": true
    },
    "kernelspec": {
      "name": "python3",
      "display_name": "Python 3"
    },
    "language_info": {
      "name": "python"
    }
  },
  "cells": [
    {
      "cell_type": "markdown",
      "metadata": {
        "id": "view-in-github",
        "colab_type": "text"
      },
      "source": [
        "<a href=\"https://colab.research.google.com/github/dalatri/Inteligencia-Artificial/blob/main/IA_Ejercicio2_DavidL%C3%A1zaroTrist%C3%A1n_1843682.ipynb\" target=\"_parent\"><img src=\"https://colab.research.google.com/assets/colab-badge.svg\" alt=\"Open In Colab\"/></a>"
      ]
    },
    {
      "cell_type": "markdown",
      "metadata": {
        "id": "e5L_AMGFp-nN"
      },
      "source": [
        "**Actividad 3.- Ejercicios Introducción Python, 2da parte**\n",
        "\n",
        "David Lázaro Tristán 1843682\n",
        "\n",
        "Jueves N4"
      ]
    },
    {
      "cell_type": "code",
      "metadata": {
        "colab": {
          "base_uri": "https://localhost:8080/"
        },
        "id": "Eevi3o3wp3Xu",
        "outputId": "0a9dc79a-5fb5-416d-d7b1-20c52380d1ed"
      },
      "source": [
        "\"Ejercicio 1.1\"\n",
        "\n",
        "#El programa preguta cuales son las siete comidas favoritas del usuario.\n",
        "\n",
        "print(\"¿Cuáles son tus siete comidas favoritas?\")\n",
        "\n",
        "#El programa cuenta con inputs en donde el usuario introduce sus comidas.\n",
        "\n",
        "primera_comida = input(\"1: \")\n",
        "segunda_comida= input(\"2: \")\n",
        "tercera_comida = input(\"3: \")\n",
        "cuarta_comida = input(\"4: \")\n",
        "quinta_comida = input(\"5: \")\n",
        "sexta_comida = input(\"6: \")\n",
        "septima_comida = input(\"7: \")\n",
        "\n",
        "#Posteriormente se genera una lista con las variables hechas por los inputs del usuario.\n",
        "\n",
        "comidas_favoritas = [\n",
        "    primera_comida,\n",
        "    segunda_comida,\n",
        "    tercera_comida,\n",
        "    cuarta_comida,\n",
        "    quinta_comida,\n",
        "    sexta_comida,\n",
        "    septima_comida\n",
        "]\n",
        "\n",
        "print(\"Tus comidas favoritas son:\")\n",
        "\n",
        "#Se utiliza el for loop para poner la lista en vertical luego del print anterior.\n",
        "\n",
        "for comidas in comidas_favoritas:\n",
        "  print(comidas)\n"
      ],
      "execution_count": null,
      "outputs": [
        {
          "output_type": "stream",
          "name": "stdout",
          "text": [
            "¿Cuáles son tus siete comidas favoritas?\n",
            "1: Pizza\n",
            "2: Hamburguesa\n",
            "3: Lasaña\n",
            "4: Sushi\n",
            "5: Pollo dorado\n",
            "6: Papas fritas\n",
            "7: Rollo de carne\n",
            "Tus comidas favoritas son:\n",
            "Pizza\n",
            "Hamburguesa\n",
            "Lasaña\n",
            "Sushi\n",
            "Pollo dorado\n",
            "Papas fritas\n",
            "Rollo de carne\n"
          ]
        }
      ]
    },
    {
      "cell_type": "code",
      "metadata": {
        "colab": {
          "base_uri": "https://localhost:8080/"
        },
        "id": "Ekx9DMqMzsCr",
        "outputId": "668d92a6-7516-4f76-b9b7-8a083bb5edbf"
      },
      "source": [
        "\"Ejercicio 1.2\"\n",
        "\n",
        "#Se realiza el mismo procedimiento que en el código anterior, hasta terminar la lista.\n",
        "\n",
        "print(\"¿Cuáles son tus siete comidas favoritas?\")\n",
        "\n",
        "primera_comida = input(\"1: \")\n",
        "segunda_comida= input(\"2: \")\n",
        "tercera_comida = input(\"3: \")\n",
        "cuarta_comida = input(\"4: \")\n",
        "quinta_comida = input(\"5: \")\n",
        "sexta_comida = input(\"6: \")\n",
        "septima_comida = input(\"7: \")\n",
        "\n",
        "comidas_favoritas = [\n",
        "    primera_comida,\n",
        "    segunda_comida,\n",
        "    tercera_comida,\n",
        "    cuarta_comida,\n",
        "    quinta_comida,\n",
        "    sexta_comida,\n",
        "    septima_comida\n",
        "]\n",
        "\n",
        "#El for loop hará que el comentario se genere una vez por cada iteración en la lista\n",
        "\n",
        "for comidas in comidas_favoritas:\n",
        "  print(\"Una de tus comidas favoritas es: \" + str(comidas))"
      ],
      "execution_count": null,
      "outputs": [
        {
          "output_type": "stream",
          "name": "stdout",
          "text": [
            "¿Cuáles son tus siete comidas favoritas?\n",
            "1: Pizza\n",
            "2: Hamburguesa\n",
            "3: Sushi\n",
            "4: Ensalada de pollo\n",
            "5: Pollo a la plancha\n",
            "6: Verdura hervida\n",
            "7: Lasaña\n",
            "Una de tus comidas favoritas es: Pizza\n",
            "Una de tus comidas favoritas es: Hamburguesa\n",
            "Una de tus comidas favoritas es: Sushi\n",
            "Una de tus comidas favoritas es: Ensalada de pollo\n",
            "Una de tus comidas favoritas es: Pollo a la plancha\n",
            "Una de tus comidas favoritas es: Verdura hervida\n",
            "Una de tus comidas favoritas es: Lasaña\n"
          ]
        }
      ]
    },
    {
      "cell_type": "code",
      "metadata": {
        "id": "5eGKQC362Kdx",
        "colab": {
          "base_uri": "https://localhost:8080/"
        },
        "outputId": "853fe447-017c-4550-a75b-cc8c8b759a1d"
      },
      "source": [
        "\"Ejercicio 2\"\n",
        "\n",
        "#En este espacio se escriben los nombres de los jugadores.\n",
        "#La función upper funciona para que cualquier letra sea mayúscula.\n",
        "\n",
        "print(\"Introducir el nombre de los jugadores: \")\n",
        "name1 = input(\"Jugador 1: \")\n",
        "name1 = name1.upper()\n",
        "name2 = input(\"Jugador 2: \")\n",
        "name2 = name2.upper()\n",
        "\n",
        "print(\"Sin ver las respuestas del jugador contrario, favor de introducir PIEDRA, PAPEL, o TIJERAS.\")\n",
        "\n",
        "#En este caso también se utiliza la función upper para evitar que la computadora marque error si se escriben las palabras en minúsculas.\n",
        "\n",
        "J1 = input(name1 + \": \")\n",
        "J1 = J1.upper()\n",
        "J2 = input(name2 + \": \")\n",
        "J2 = J2.upper()\n",
        "\n",
        "#PIEDRA > TIJERAS, PAPEL > PIEDRA, TIJERAS > PAPEL\n",
        "\n",
        "#Condiciones de empate\n",
        "if J1 == J2:\n",
        "    print(name1 + \" y \" + name2 + \" han escogido la misma opción. Es un empate.\")\n",
        "#Conciciones para que gane el jugador 1\n",
        "elif (J1 == \"PIEDRA\" and J2 == \"TIJERAS\") or (J1 == \"PAPEL\" and J2 == \"PIEDRA\") or (J1 == \"TIJERAS\" and J2 == \"PAPEL\"):\n",
        "    print(name1 + \" escogió \" + J1 + \" y \" + name2 + \" escogió \" + J2 + \".\\n\" + name1 + \" gana!\")\n",
        "#Condiciones para que gane el jugador 2\n",
        "elif (J1 == \"TIJERAS\" and J2 == \"PIEDRA\") or (J1 == \"PIEDRA\" and J2 == \"PAPEL\") or (J1 == \"PAPEL\" and J2 == \"TIJERAS\"):\n",
        "    print(name1 + \" escogió \" + J1 + \" y \" + name2 + \" escogió \" + J2 + \".\\n\" + name2 + \" gana!\")\n",
        "#Por si algún jugador escribe otra opción que no sea PIEDRA, PAPEL, o TIJERAS\n",
        "else:\n",
        "    print(\"Se ha introducido una opción no permitida.\")"
      ],
      "execution_count": 1,
      "outputs": [
        {
          "output_type": "stream",
          "name": "stdout",
          "text": [
            "Introducir el nombre de los jugadores: \n",
            "Jugador 1: david\n",
            "Jugador 2: diego\n",
            "Sin ver las respuestas del jugador contrario, favor de introducir PIEDRA, PAPEL, o TIJERAS.\n",
            "DAVID: piedra\n",
            "DIEGO: papel\n",
            "DAVID escogió PIEDRA y DIEGO escogió PAPEL.\n",
            "DIEGO gana!\n"
          ]
        }
      ]
    },
    {
      "cell_type": "code",
      "metadata": {
        "colab": {
          "base_uri": "https://localhost:8080/"
        },
        "id": "BfxTUnIIPLow",
        "outputId": "01051e3a-e1e1-4a33-c794-a96acfd4d677"
      },
      "source": [
        "\"Ejercicio 3\"\n",
        "\n",
        "lista = (1, 2, 3, 4, 5, 6)\n",
        "\n",
        "#En este caso se hacen uso de los rangos de las listas para imprimir el patrón necesario.\n",
        "\n",
        "print(lista)\n",
        "print(lista[0:6])\n",
        "print(lista[0:5])\n",
        "print(lista[0:4])\n",
        "print(lista[0:3])\n",
        "print(lista[0:2])\n",
        "print(lista[0])\n",
        "print(lista[0:2])\n",
        "print(lista[0:3])\n",
        "print(lista[0:4])\n",
        "print(lista[0:5])\n",
        "print(lista[0:6])\n",
        "print(lista)"
      ],
      "execution_count": 3,
      "outputs": [
        {
          "output_type": "stream",
          "name": "stdout",
          "text": [
            "(1, 2, 3, 4, 5, 6)\n",
            "(1, 2, 3, 4, 5, 6)\n",
            "(1, 2, 3, 4, 5)\n",
            "(1, 2, 3, 4)\n",
            "(1, 2, 3)\n",
            "(1, 2)\n",
            "1\n",
            "(1, 2)\n",
            "(1, 2, 3)\n",
            "(1, 2, 3, 4)\n",
            "(1, 2, 3, 4, 5)\n",
            "(1, 2, 3, 4, 5, 6)\n",
            "(1, 2, 3, 4, 5, 6)\n"
          ]
        }
      ]
    }
  ]
}